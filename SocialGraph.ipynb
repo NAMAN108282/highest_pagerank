{
 "cells": [
  {
   "cell_type": "markdown",
   "metadata": {},
   "source": [
    "Before you turn this problem in, make sure everything runs as expected. First, **restart the kernel** (in the menubar, select Kernel$\\rightarrow$Restart) and then **run all cells** (in the menubar, select Cell$\\rightarrow$Run All).\n",
    "\n",
    "Make sure you fill in any place that says `YOUR CODE HERE` or \"YOUR ANSWER HERE\". You can run all the tests with the validate button. If the validate command takes too long, you can also confirm that you pass all the tests if you can run through the whole notebook without getting validation errors."
   ]
  },
  {
   "cell_type": "markdown",
   "metadata": {
    "deletable": false,
    "editable": false,
    "nbgrader": {
     "cell_type": "markdown",
     "checksum": "dd940108c418529a12962053d1dc767b",
     "grade": false,
     "grade_id": "cell-97231f8480b9c894",
     "locked": true,
     "schema_version": 3,
     "solution": false,
     "task": false
    }
   },
   "source": [
    "For this problem set, we'll be using the Jupyter notebook:\n",
    "\n",
    "![](jupyter.png)"
   ]
  },
  {
   "cell_type": "markdown",
   "metadata": {
    "deletable": false,
    "editable": false,
    "nbgrader": {
     "cell_type": "markdown",
     "checksum": "7ec0f3b4a5251fe7589bfabf6a55c776",
     "grade": false,
     "grade_id": "cell-2e0a627e22b76fe5",
     "locked": true,
     "schema_version": 3,
     "solution": false,
     "task": false
    }
   },
   "source": [
    "## GraphFrame Exercises\n",
    "Your job is to implement multiple small methods that analyze people's social data using [GraphFrames](https://graphframes.github.io/graphframes/docs/_site/index.html).\n",
    "\n",
    "We use a small sample data of \"socialgraph.dat\" from https://archive.org/download/201309_foursquare_dataset_umn/fsq.zip, inside the \"umn_foursquare_datasets\" folder.\n",
    "\n",
    "The \"socialgraph.dat\" file contains the social graph edges (connections) that exist between users. Each social connection consits of two users represented by two unique ids (first_user_id and second_user_id). The connnections are directed. Supposed we have data shown as:\n",
    "\n",
    "first_user_id | second_user_id \n",
    "---------------|----------------\n",
    "             1 |             2\n",
    "             2 |             1\n",
    "\n",
    "This data set shows that there is a connection from user1 (whose id is 1) to user2 (whose id is 2), and another connection from user2 to user1.\n",
    "             \n",
    "These links may be helpful:  \n",
    "https://graphframes.github.io/graphframes/docs/_site/user-guide.html  \n",
    "https://graphframes.github.io/graphframes/docs/_site/api/python/graphframes.html#module-graphframes  \n"
   ]
  },
  {
   "cell_type": "code",
   "execution_count": 1,
   "metadata": {
    "deletable": false,
    "editable": false,
    "nbgrader": {
     "cell_type": "code",
     "checksum": "524f10212501be2674bd9f8243a8db84",
     "grade": false,
     "grade_id": "cell-23f124cdf01962e1",
     "locked": true,
     "schema_version": 3,
     "solution": false,
     "task": false
    }
   },
   "outputs": [],
   "source": [
    "from graphframes import GraphFrame\n",
    "from pyspark.sql import SparkSession, Row\n",
    "import re\n",
    "from pyspark.sql.functions import *\n",
    "\n",
    "spark = SparkSession.builder\\\n",
    "    .master('local[*]')\\\n",
    "    .appName('main')\\\n",
    "    .getOrCreate()\n",
    "\n",
    "sampleFile = \"socialgraph_sample.dat\"\n",
    "\n",
    "# Path of smaller data set\n",
    "testFile = \"socialgraph_testsample.dat\""
   ]
  },
  {
   "cell_type": "code",
   "execution_count": 2,
   "metadata": {
    "deletable": false,
    "editable": false,
    "nbgrader": {
     "cell_type": "code",
     "checksum": "f4d5df41e7dbaa34b4607ac64ced2943",
     "grade": false,
     "grade_id": "cell-c1ac6c32f587ea11",
     "locked": true,
     "schema_version": 3,
     "solution": false,
     "task": false
    }
   },
   "outputs": [],
   "source": [
    "# Variable and methods that will be used in more than one test\n",
    "\n",
    "sc = spark.sparkContext\n",
    "\n",
    "# Test if two arrays that contain Rows are equal\n",
    "def equalArray(array1, array2):\n",
    "    for i in range(0, len(array2)):\n",
    "        assert array1[i].asDict() == array2[i].asDict(), \"the row was expected to be %s but it was %s\" % (array2[i].asDict(), array1[i].asDict())\n",
    "\n",
    "# Test if two dataframes contain same rows\n",
    "def equalDF(df1, df2, *columns):\n",
    "    \n",
    "    # sort dfs before converting them to lists\n",
    "    array1 = df1.orderBy(list(columns)).collect()\n",
    "    array2 = df2.orderBy(list(columns)).collect()\n",
    "    equalArray(array1, array2)"
   ]
  },
  {
   "cell_type": "markdown",
   "metadata": {
    "deletable": false,
    "editable": false,
    "nbgrader": {
     "cell_type": "markdown",
     "checksum": "67fc87b14439ef625420954317fbb4fa",
     "grade": false,
     "grade_id": "cell-9dd6e550095fc617",
     "locked": true,
     "schema_version": 3,
     "solution": false,
     "task": false
    }
   },
   "source": [
    "## Create Graph\n",
    "`createGraph` creates a GraphFrame. The function already includes code that creates the relevant RDDs from the file. Your job is to create a GraphFrame from the RDDs. You can start by first turning the RDDs into dataframes.\n",
    "\n",
    "Vertices should have fields `id` and `name`. Note that id and name are identical in this exercise.  \n",
    "Edges should have fields `src`, `dst` and `relationship`.\n",
    "\n",
    "Example: Supposed we have data shown below:\n",
    "\n",
    " first_user_id | second_user_id \n",
    "---------------|----------------\n",
    "             1 |             2\n",
    "             1 |             2\n",
    "             2 |             1\n",
    "             1 |             3\n",
    "             2 |             3\n",
    "            \n",
    "The graph should be:\n",
    "![](example.png)\n",
    "             \n",
    "param `path`: path of file whose data should be used to create the GraphFrame \n",
    "\n",
    "`return`: GraphFrame\n",
    "\n",
    "\n",
    "Note: If you are experiencing performance issues in later exercises it might be because the graph has too many partitions. You can try to fix it by repartitioning the graph with `GraphFrame(vertices.repartition(2), edges.repartition(2))` when creating the graph in the createGraph function."
   ]
  },
  {
   "cell_type": "code",
   "execution_count": 3,
   "metadata": {
    "deletable": false,
    "nbgrader": {
     "cell_type": "code",
     "checksum": "3ac9613e1c45b186eaf9295816b1da21",
     "grade": false,
     "grade_id": "cell-ae33ce9628fa40aa",
     "locked": false,
     "schema_version": 3,
     "solution": true,
     "task": false
    }
   },
   "outputs": [],
   "source": [
    "def createGraph(path):\n",
    "    \n",
    "    data = spark.sparkContext.textFile(path)\n",
    "    regex = r'\\s*\\d+\\s*\\|\\s*\\d+\\s*'\n",
    "    \n",
    "    filtered = data.map(lambda x: re.findall(regex, x)).filter(lambda y: len(y) > 0)\n",
    "\n",
    "    verticesRDD = filtered.flatMap(lambda x: x[0].split('|')) \\\n",
    "        .map(lambda x: int(x.strip())) \\\n",
    "        .distinct()\\\n",
    "        .map(lambda v: (v,v))\n",
    "    \n",
    "    edgesRDD = filtered.map(lambda x: x[0].split('|'))\\\n",
    "            .map(lambda x: ((int(x[0].strip()), int(x[1].strip())), 1))\\\n",
    "            .reduceByKey(lambda a,b:a+b) \\\n",
    "            .map(lambda x: (x[0][0], x[0][1], x[1]))\n",
    "    \n",
    "    verticesDF = spark.createDataFrame(verticesRDD).toDF(\"id\", \"name\")\n",
    "    edgesDF = spark.createDataFrame(edgesRDD).toDF(\"src\", \"dst\", \"relationship\")\n",
    "    return GraphFrame(verticesDF, edgesDF)\n",
    "    raise NotImplementedError()"
   ]
  },
  {
   "cell_type": "code",
   "execution_count": 4,
   "metadata": {
    "deletable": false,
    "editable": false,
    "nbgrader": {
     "cell_type": "code",
     "checksum": "3f8b597ed88908844c96fefa26f3df6f",
     "grade": false,
     "grade_id": "cell-2fd8cccf73474e89",
     "locked": true,
     "schema_version": 3,
     "solution": false,
     "task": false
    }
   },
   "outputs": [
    {
     "name": "stdout",
     "output_type": "stream",
     "text": [
      "+---+----+\n",
      "| id|name|\n",
      "+---+----+\n",
      "| 10|  10|\n",
      "| 12|  12|\n",
      "| 14|  14|\n",
      "| 16|  16|\n",
      "| 18|  18|\n",
      "| 20|  20|\n",
      "| 22|  22|\n",
      "| 24|  24|\n",
      "| 26|  26|\n",
      "| 28|  28|\n",
      "| 30|  30|\n",
      "| 32|  32|\n",
      "| 34|  34|\n",
      "| 36|  36|\n",
      "|  2|   2|\n",
      "| 38|  38|\n",
      "| 40|  40|\n",
      "| 42|  42|\n",
      "| 44|  44|\n",
      "| 46|  46|\n",
      "+---+----+\n",
      "only showing top 20 rows\n",
      "\n",
      "+---+---+------------+\n",
      "|src|dst|relationship|\n",
      "+---+---+------------+\n",
      "|  1| 11|           1|\n",
      "| 11|  1|           1|\n",
      "|  1| 13|           1|\n",
      "| 13|  1|           1|\n",
      "|  1| 15|           1|\n",
      "| 15|  1|           1|\n",
      "|  1| 17|           1|\n",
      "| 17|  1|           1|\n",
      "|  1| 19|           1|\n",
      "| 19|  1|           1|\n",
      "|  1| 21|           1|\n",
      "| 21|  1|           1|\n",
      "|  1| 23|           1|\n",
      "| 23|  1|           1|\n",
      "|  1| 25|           1|\n",
      "| 25|  1|           1|\n",
      "|  1| 27|           1|\n",
      "| 27|  1|           1|\n",
      "|  1| 29|           1|\n",
      "| 29|  1|           1|\n",
      "+---+---+------------+\n",
      "only showing top 20 rows\n",
      "\n"
     ]
    }
   ],
   "source": [
    "# example print\n",
    "\n",
    "graph = createGraph(sampleFile).persist()\n",
    "graph.vertices.show()\n",
    "graph.edges.show()"
   ]
  },
  {
   "cell_type": "code",
   "execution_count": 5,
   "metadata": {
    "deletable": false,
    "editable": false,
    "nbgrader": {
     "cell_type": "code",
     "checksum": "ec4648c001f9b6254d29638675adb0b5",
     "grade": true,
     "grade_id": "cell-372b63367350d1f5",
     "locked": true,
     "points": 1,
     "schema_version": 3,
     "solution": false,
     "task": false
    }
   },
   "outputs": [],
   "source": [
    "'''createGraph tests'''\n",
    "\n",
    "import random\n",
    "\n",
    "correctVertices = sc.parallelize([Row(id=2, name=2),\n",
    "                                  Row(id=10, name=10),\n",
    "                                  Row(id=8, name=8),\n",
    "                                  Row(id=3, name=3),\n",
    "                                  Row(id=7, name=7),\n",
    "                                  Row(id=4, name=4),\n",
    "                                  Row(id=1, name=1),\n",
    "                                  Row(id=9, name=9)]).toDF()\n",
    "\n",
    "correctEdges = sc.parallelize([Row(src=2, dst=10, relationship=1),\n",
    "                               Row(src=2, dst=8, relationship=1),\n",
    "                               Row(src=3, dst=7, relationship=1),\n",
    "                               Row(src=3, dst=10, relationship=1),\n",
    "                               Row(src=2, dst=3, relationship=1),\n",
    "                               Row(src=10, dst=4, relationship=1),\n",
    "                               Row(src=4, dst=10, relationship=1),\n",
    "                               Row(src=4, dst=2, relationship=1),\n",
    "                               Row(src=1, dst=9, relationship=1),\n",
    "                               Row(src=1, dst=10, relationship=2),\n",
    "                               Row(src=7, dst=9, relationship=1),\n",
    "                               Row(src=1, dst=3, relationship=1),\n",
    "                               Row(src=10, dst=1, relationship=1)]).toDF()\n",
    "testGraph = createGraph(testFile).persist()\n",
    "testVertices = testGraph.vertices\n",
    "testEdges = testGraph.edges\n",
    "\n",
    "assert testVertices.count() == correctVertices.count(), \"the vertices count was expected to be %s but it was %s\" % (correctVertices.count(), testVertices.count())\n",
    "assert testEdges.count() == correctEdges.count(), \"the edges count was expected to be %s but it was %s\" % (correctEdges.count(), testEdges.count())\n",
    "equalDF(testGraph.vertices, correctVertices, \"id\")\n",
    "equalDF(testGraph.edges, correctEdges, \"src\", \"dst\", \"relationship\")\n",
    "\n"
   ]
  },
  {
   "cell_type": "markdown",
   "metadata": {
    "deletable": false,
    "editable": false,
    "nbgrader": {
     "cell_type": "markdown",
     "checksum": "eacfdeafcee3d677ff8f68b58b4e5da7",
     "grade": false,
     "grade_id": "cell-fa3f8ed6925bb667",
     "locked": true,
     "schema_version": 3,
     "solution": false,
     "task": false
    }
   },
   "source": [
    "## Both Directions\n",
    "`bothDirections` finds pairs of users who are connected by an edge in both directions.\n",
    "\n",
    "param `graph`: GraphFrame containing social data (created by `createGraph`).\n",
    "\n",
    "`return`: DataFrame which has columns \"start\", \"end\" and \"connections\", corresponding to the  starting user id, ending user id and number of connections between two users. \n",
    "\n",
    "Example: Supposed we have a graph as below:\n",
    "![](example_bothConnections.png)\n",
    "The result should be\n",
    "\n",
    "|start|end|connections|\n",
    "|---|---|------------|\n",
    "| 10|  4|           1|\n",
    "|  4| 10|           1|\n",
    "|  1| 10|           2|\n",
    "| 10|  1|           1|\n",
    "\n",
    "Hint: Check the find function from [GraphFrames](https://graphframes.github.io/graphframes/docs/_site/user-guide.html#motif-finding)"
   ]
  },
  {
   "cell_type": "code",
   "execution_count": 6,
   "metadata": {
    "deletable": false,
    "nbgrader": {
     "cell_type": "code",
     "checksum": "502508e20f6a5719a17beb2d6e225e8f",
     "grade": false,
     "grade_id": "cell-7664eaca92375b77",
     "locked": false,
     "schema_version": 3,
     "solution": true,
     "task": false
    }
   },
   "outputs": [],
   "source": [
    "def bothDirections(graph):\n",
    "\n",
    "    df = graph.find(\"(a)-[e]->(b); (b)-[e2]->(a)\")\n",
    "    df = df.select(\"e\")\n",
    "    df2 = df.withColumn(\"start\", df[\"e.src\"]) \\\n",
    "           .withColumn(\"end\", df[\"e.dst\"]) \\\n",
    "           .withColumn(\"connections\", df[\"e.relationship\"])\n",
    "    return df2.drop(\"e\")\n",
    "    raise NotImplementedError()"
   ]
  },
  {
   "cell_type": "code",
   "execution_count": 7,
   "metadata": {},
   "outputs": [
    {
     "name": "stdout",
     "output_type": "stream",
     "text": [
      "+-----+---+-----------+\n",
      "|start|end|connections|\n",
      "+-----+---+-----------+\n",
      "|    1| 11|          1|\n",
      "|   11|  1|          1|\n",
      "|    1| 13|          1|\n",
      "|   13|  1|          1|\n",
      "|    1| 15|          1|\n",
      "|   15|  1|          1|\n",
      "|    1| 17|          1|\n",
      "|   17|  1|          1|\n",
      "|    1| 19|          1|\n",
      "|   19|  1|          1|\n",
      "|    1| 21|          1|\n",
      "|   21|  1|          1|\n",
      "|    1| 23|          1|\n",
      "|   23|  1|          1|\n",
      "|    1| 25|          1|\n",
      "|   25|  1|          1|\n",
      "|    1| 27|          1|\n",
      "|   27|  1|          1|\n",
      "|    1| 29|          1|\n",
      "|   29|  1|          1|\n",
      "+-----+---+-----------+\n",
      "only showing top 20 rows\n",
      "\n"
     ]
    }
   ],
   "source": [
    "# example print\n",
    "\n",
    "bothDirections(graph).show()"
   ]
  },
  {
   "cell_type": "code",
   "execution_count": 8,
   "metadata": {
    "deletable": false,
    "editable": false,
    "nbgrader": {
     "cell_type": "code",
     "checksum": "4a1406f69de3efc31548b28b3a96bb8f",
     "grade": true,
     "grade_id": "cell-f30164452a8adcb2",
     "locked": true,
     "points": 1,
     "schema_version": 3,
     "solution": false,
     "task": false
    }
   },
   "outputs": [],
   "source": [
    "'''bothDirections tests'''\n",
    "\n",
    "correctEdges = sc.parallelize([Row(start=10, end=4, connections=1),\n",
    "                               Row(start=4, end=10, connections=1),\n",
    "                               Row(start=1, end=10, connections=2),\n",
    "                               Row(start=10, end=1, connections=1)]).toDF()\n",
    "equalDF(bothDirections(testGraph), correctEdges, \"start\", \"end\", \"connections\")\n"
   ]
  },
  {
   "cell_type": "markdown",
   "metadata": {
    "deletable": false,
    "editable": false,
    "nbgrader": {
     "cell_type": "markdown",
     "checksum": "91d3ddc7108c8dc4fd25ae844a1e7967",
     "grade": false,
     "grade_id": "cell-b32c4330ee9a7009",
     "locked": true,
     "schema_version": 3,
     "solution": false,
     "task": false
    }
   },
   "source": [
    "## Most Active User\n",
    "`mostActiveUser` finds which user has the most outward connections. \n",
    "\n",
    "param `graph`: GraphFrame containing social data.\n",
    "\n",
    "return: id of user who has the most outward connections. Return the smallest id if more than one users have the same number of outward connections."
   ]
  },
  {
   "cell_type": "code",
   "execution_count": 9,
   "metadata": {
    "deletable": false,
    "nbgrader": {
     "cell_type": "code",
     "checksum": "ada1c8a7779806a953e6d9f09327a10e",
     "grade": false,
     "grade_id": "cell-e8dc0feba642b7db",
     "locked": false,
     "schema_version": 3,
     "solution": true,
     "task": false
    }
   },
   "outputs": [],
   "source": [
    "def mostActiveUser(graph):\n",
    "    \n",
    "    df = graph.outDegrees.orderBy([\"outDegree\", \"id\"], ascending=[False,True])\n",
    "    return df.first().id\n",
    "    raise NotImplementedError()"
   ]
  },
  {
   "cell_type": "code",
   "execution_count": 10,
   "metadata": {},
   "outputs": [
    {
     "data": {
      "text/plain": [
       "5"
      ]
     },
     "execution_count": 10,
     "metadata": {},
     "output_type": "execute_result"
    }
   ],
   "source": [
    "# example print\n",
    "\n",
    "mostActiveUser(graph)"
   ]
  },
  {
   "cell_type": "code",
   "execution_count": 11,
   "metadata": {
    "deletable": false,
    "editable": false,
    "nbgrader": {
     "cell_type": "code",
     "checksum": "0b56b33514bec1aae4b623676fab4d2d",
     "grade": true,
     "grade_id": "cell-b22ae08851e69e51",
     "locked": true,
     "points": 1,
     "schema_version": 3,
     "solution": false,
     "task": false
    }
   },
   "outputs": [],
   "source": [
    "'''mostActiveUser tests'''\n",
    "\n",
    "assert mostActiveUser(graph) == 5, \"the most active user was expected to be 5 but it was %s\" % mostActiveUser(graph)\n",
    "assert mostActiveUser(testGraph) == 1, \"the most active user was expected to be 1 but it was %s\" % mostActiveUser(testGraph)\n"
   ]
  },
  {
   "cell_type": "markdown",
   "metadata": {
    "deletable": false,
    "editable": false,
    "nbgrader": {
     "cell_type": "markdown",
     "checksum": "c34f93cfaf89d0e292b775d690a83b64",
     "grade": false,
     "grade_id": "cell-fddb53cc607c150e",
     "locked": true,
     "schema_version": 3,
     "solution": false,
     "task": false
    }
   },
   "source": [
    "## Connection Ratio\n",
    "`connectionRatio` shows which user has the highest ratio of inward connections but fewest outward connections. \n",
    "\n",
    "param `graph`: GraphFrame containing social data.\n",
    "\n",
    "`return` DataFrame which has columns \"id\" and \"connectionRatio\", where \"id\" is the id of a user and \"connectionRatio\" = number of inward connections/number of outward connections. Users without inward or outward connections should be filtered out. **The DataFrame should be sorted by connectionRatio in descending order. If more than one users have the same connection ratio, these users should be sorted by their id in ascending order.**\n",
    "\n",
    "example output:\n",
    "\n",
    "| id|   connectionRatio|\n",
    "|---|------------------|\n",
    "| 10|               2.0|\n",
    "|  3|               1.0|\n",
    "|  7|               1.0|\n",
    "|  4|               0.5|\n",
    "|  1|0.3333333333333333|\n",
    "|  2|0.3333333333333333|"
   ]
  },
  {
   "cell_type": "code",
   "execution_count": 12,
   "metadata": {
    "deletable": false,
    "nbgrader": {
     "cell_type": "code",
     "checksum": "984ccaf54e03bf4d823ba697dbe56339",
     "grade": false,
     "grade_id": "cell-a411d7e6e2dea998",
     "locked": false,
     "schema_version": 3,
     "solution": true,
     "task": false
    }
   },
   "outputs": [],
   "source": [
    "def connectionRatio(graph):\n",
    "\n",
    "    df = graph.inDegrees.join(graph.outDegrees,on=\"id\", how = \"inner\")\n",
    "    df = df.withColumn(\"connectionRatio\", df[\"inDegree\"]/df[\"outDegree\"])\n",
    "    df = df.select(\"id\", \"connectionRatio\")\n",
    "    df = df.orderBy([\"connectionRatio\",\"id\"], ascending = [False, True])\n",
    "    return df\n",
    "    raise NotImplementedError()"
   ]
  },
  {
   "cell_type": "code",
   "execution_count": 13,
   "metadata": {},
   "outputs": [
    {
     "name": "stdout",
     "output_type": "stream",
     "text": [
      "+---+---------------+\n",
      "| id|connectionRatio|\n",
      "+---+---------------+\n",
      "|  1|            1.0|\n",
      "|  2|            1.0|\n",
      "|  3|            1.0|\n",
      "|  4|            1.0|\n",
      "|  5|            1.0|\n",
      "| 10|            1.0|\n",
      "| 11|            1.0|\n",
      "| 12|            1.0|\n",
      "| 13|            1.0|\n",
      "| 14|            1.0|\n",
      "| 15|            1.0|\n",
      "| 16|            1.0|\n",
      "| 17|            1.0|\n",
      "| 18|            1.0|\n",
      "| 19|            1.0|\n",
      "| 20|            1.0|\n",
      "| 21|            1.0|\n",
      "| 22|            1.0|\n",
      "| 23|            1.0|\n",
      "| 24|            1.0|\n",
      "+---+---------------+\n",
      "only showing top 20 rows\n",
      "\n"
     ]
    }
   ],
   "source": [
    "# example print\n",
    "\n",
    "connectionRatio(graph).show()"
   ]
  },
  {
   "cell_type": "code",
   "execution_count": 14,
   "metadata": {
    "deletable": false,
    "editable": false,
    "nbgrader": {
     "cell_type": "code",
     "checksum": "30d635b3630ea60996513b5c58abf7fc",
     "grade": true,
     "grade_id": "cell-c0d199cb9cc2435e",
     "locked": true,
     "points": 1,
     "schema_version": 3,
     "solution": false,
     "task": false
    }
   },
   "outputs": [],
   "source": [
    "'''connectionRatio tests'''\n",
    "correct = [Row(id=10, connectionRatio=2.0),\n",
    "           Row(id=3, connectionRatio=1.0),\n",
    "           Row(id=7, connectionRatio=1.0),\n",
    "           Row(id=4, connectionRatio=0.5),\n",
    "           Row(id=1, connectionRatio=1/3),\n",
    "           Row(id=2, connectionRatio=1/3)]\n",
    "\n",
    "test = connectionRatio(testGraph)\n",
    "equalArray(test.collect(), correct)\n"
   ]
  },
  {
   "cell_type": "markdown",
   "metadata": {
    "deletable": false,
    "editable": false,
    "nbgrader": {
     "cell_type": "markdown",
     "checksum": "b6d9e93f154107023e455eb960847855",
     "grade": false,
     "grade_id": "cell-e64a9805b487b28d",
     "locked": true,
     "schema_version": 3,
     "solution": false,
     "task": false
    }
   },
   "source": [
    "## Communities\n",
    "`communities` uses [label propagation algorithm (LPA)](https://neo4j.com/blog/graph-algorithms-neo4j-label-propagation/) to detect communities for a graph. \n",
    "\n",
    "param `graph`: GraphFrame containing social data.\n",
    "\n",
    "`return`: DataFrame containing columns \"community\" and \"count\". \"community\" is the label assigned by LPA and \"count\" is the number of users who belong to the community. **The Dataframe should be sorted by \"count\" in descending order. If more than one communities have same number of users, these communities should be sorted by label in ascending order.**\n",
    "\n",
    "Note: set 5 as the number of iterations to be performed when running LPA.\n",
    "\n",
    "Example output:\n",
    "\n",
    "|community|count|\n",
    "|---------|-----|\n",
    "|        1|    4|\n",
    "|        3|    2|\n",
    "|       10|    2|\n"
   ]
  },
  {
   "cell_type": "code",
   "execution_count": 15,
   "metadata": {
    "deletable": false,
    "nbgrader": {
     "cell_type": "code",
     "checksum": "4fcbb7e18f1637bc2e3a8993c9dfdf54",
     "grade": false,
     "grade_id": "cell-dac31ea7604e805f",
     "locked": false,
     "schema_version": 3,
     "solution": true,
     "task": false
    }
   },
   "outputs": [],
   "source": [
    "def communities(graph):\n",
    "    \n",
    "    df = graph.labelPropagation(maxIter = 5)\n",
    "    df = df.groupBy(\"label\").count()\n",
    "    df = df.withColumnRenamed(\"label\", \"community\")\n",
    "    df = df.orderBy([\"count\", \"community\"], ascending = [False, True])\n",
    "    return df\n",
    "    raise NotImplementedError()"
   ]
  },
  {
   "cell_type": "code",
   "execution_count": 16,
   "metadata": {},
   "outputs": [
    {
     "name": "stdout",
     "output_type": "stream",
     "text": [
      "+---------+-----+\n",
      "|community|count|\n",
      "+---------+-----+\n",
      "|        5|   57|\n",
      "|        1|   28|\n",
      "|        2|   15|\n",
      "|        4|    6|\n",
      "|        3|    2|\n",
      "|       23|    1|\n",
      "|       41|    1|\n",
      "|       53|    1|\n",
      "|       59|    1|\n",
      "|       92|    1|\n",
      "+---------+-----+\n",
      "\n"
     ]
    }
   ],
   "source": [
    "# example print\n",
    "\n",
    "communities(graph).show()"
   ]
  },
  {
   "cell_type": "code",
   "execution_count": 17,
   "metadata": {
    "deletable": false,
    "editable": false,
    "nbgrader": {
     "cell_type": "code",
     "checksum": "45da79101d408eebd98be232bddae373",
     "grade": true,
     "grade_id": "cell-bbff92edb250b8a7",
     "locked": true,
     "points": 1,
     "schema_version": 3,
     "solution": false,
     "task": false
    }
   },
   "outputs": [],
   "source": [
    "'''communities tests'''\n",
    "correct = [Row(community=2, count=4),\n",
    "           Row(community=8, count=3),\n",
    "           Row(community=10, count=1)]\n",
    "\n",
    "equalArray(communities(testGraph).collect(), correct)\n"
   ]
  },
  {
   "cell_type": "markdown",
   "metadata": {
    "deletable": false,
    "editable": false,
    "nbgrader": {
     "cell_type": "markdown",
     "checksum": "d7c254c68c9ce3e301e985342f434069",
     "grade": false,
     "grade_id": "cell-455c7ac19e014d24",
     "locked": true,
     "schema_version": 3,
     "solution": false,
     "task": false
    }
   },
   "source": [
    "## Highest Page Rank\n",
    "`highestPageRank` finds which user has the highest [PageRank](https://en.wikipedia.org/wiki/PageRank).\n",
    "\n",
    "param `graph`: GraphFrame containing social data.\n",
    "\n",
    "`return`: id of user with the highest PageRank.\n",
    "\n",
    "**Set tolerance \"tol\" as 0.0001 when using the pageRank algorithm.**"
   ]
  },
  {
   "cell_type": "code",
   "execution_count": 18,
   "metadata": {
    "deletable": false,
    "nbgrader": {
     "cell_type": "code",
     "checksum": "f073862a44a470a908a93d5d4ff6a76b",
     "grade": false,
     "grade_id": "cell-2daff5a1e0de0a1a",
     "locked": false,
     "schema_version": 3,
     "solution": true,
     "task": false
    }
   },
   "outputs": [],
   "source": [
    "def highestPageRank(graph):\n",
    "    \n",
    "    g = graph.pageRank(resetProbability=0.15, tol=0.0001)\n",
    "    df = g.vertices.select(\"id\", \"pagerank\")\n",
    "    df = df.orderBy(\"pagerank\", ascending = False)\n",
    "    return df.first().id\n",
    "    raise NotImplementedError()"
   ]
  },
  {
   "cell_type": "code",
   "execution_count": 19,
   "metadata": {},
   "outputs": [
    {
     "data": {
      "text/plain": [
       "5"
      ]
     },
     "execution_count": 19,
     "metadata": {},
     "output_type": "execute_result"
    }
   ],
   "source": [
    "# example print\n",
    "\n",
    "highestPageRank(graph)"
   ]
  },
  {
   "cell_type": "code",
   "execution_count": 20,
   "metadata": {
    "deletable": false,
    "editable": false,
    "nbgrader": {
     "cell_type": "code",
     "checksum": "6f71de7f540a1b99519c8dd4c6d407cd",
     "grade": true,
     "grade_id": "cell-3054ad6ca5f7970f",
     "locked": true,
     "points": 1,
     "schema_version": 3,
     "solution": false,
     "task": false
    }
   },
   "outputs": [],
   "source": [
    "'''highestPageRank tests'''\n",
    "\n",
    "#graph = createGraph(testFile)\n",
    "assert highestPageRank(testGraph) == 10, \"the highest page rank was expected to be 10 but it was %s\" % highestPageRank(testGraph)\n"
   ]
  },
  {
   "cell_type": "code",
   "execution_count": 21,
   "metadata": {
    "deletable": false,
    "editable": false,
    "nbgrader": {
     "cell_type": "code",
     "checksum": "067d5cf4979c9a028449a2213e620c88",
     "grade": false,
     "grade_id": "cell-57089751fdc2b300",
     "locked": true,
     "schema_version": 3,
     "solution": false,
     "task": false
    }
   },
   "outputs": [],
   "source": [
    "spark.catalog.clearCache()\n",
    "spark.stop()"
   ]
  },
  {
   "cell_type": "code",
   "execution_count": null,
   "metadata": {},
   "outputs": [],
   "source": []
  }
 ],
 "metadata": {
  "kernelspec": {
   "display_name": "Python 3 (ipykernel)",
   "language": "python",
   "name": "python3"
  },
  "language_info": {
   "codemirror_mode": {
    "name": "ipython",
    "version": 3
   },
   "file_extension": ".py",
   "mimetype": "text/x-python",
   "name": "python",
   "nbconvert_exporter": "python",
   "pygments_lexer": "ipython3",
   "version": "3.9.7"
  },
  "vscode": {
   "interpreter": {
    "hash": "d074b6b7a4d7b8adf89df935b7701a8c4e0af999254745575407f19f2a6d6544"
   }
  }
 },
 "nbformat": 4,
 "nbformat_minor": 4
}
